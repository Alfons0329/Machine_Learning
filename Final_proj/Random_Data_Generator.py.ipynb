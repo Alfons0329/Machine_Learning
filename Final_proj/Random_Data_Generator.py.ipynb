{
 "cells": [
  {
   "cell_type": "code",
   "execution_count": 2,
   "metadata": {
    "collapsed": true
   },
   "outputs": [],
   "source": [
    "import pandas as pd\n",
    "import numpy as np\n",
    "import csv\n",
    "\n",
    "def preprocessing():\n",
    "    df = pd.read_csv('car.csv', dtype=str)\n",
    "\n",
    "    # delete unnecessary data columns\n",
    "    del df['body_type']\n",
    "    del df['color_slug']\n",
    "    del df['stk_year']\n",
    "    del df['date_created']\n",
    "    del df['date_last_seen']\n",
    "    df = df.dropna() # drop row with na value, NOT IN PLACE\n",
    "    \n",
    "    # delete first row \n",
    "    tmp_data = df.as_matrix().tolist()\n",
    "    \n",
    "    # delete data with 'None' value\n",
    "    data = []\n",
    "    for i in range(len(tmp_data)):\n",
    "        if 'None' not in tmp_data[i]:\n",
    "            data.append(tmp_data[i])\n",
    "    \n",
    "    # data shuffle\n",
    "    np.random.shuffle(data)\n",
    "    \n",
    "    # split data 7:3\n",
    "    split = round(len(data)*7/10)\n",
    "    \n",
    "    # create train data\n",
    "    with open('train.csv', 'w') as fp_train_out:\n",
    "        writer = csv.writer(fp_train_out)\n",
    "        writer.writerows(data[:split])\n",
    "    # dreate test data\n",
    "    with open('test.csv', 'w') as fp_test_out:\n",
    "        writer = csv.writer(fp_test_out)\n",
    "        writer.writerows(data[split:])\n",
    "        \n",
    "    return data\n",
    "\n",
    "if __name__ == '__main__':\n",
    "    # draw_PDF(preprocessing())\n",
    "    data = preprocessing()\n",
    "    \n",
    "\n"
   ]
  },
  {
   "cell_type": "code",
   "execution_count": null,
   "metadata": {
    "collapsed": true
   },
   "outputs": [],
   "source": []
  },
  {
   "cell_type": "code",
   "execution_count": null,
   "metadata": {
    "collapsed": true
   },
   "outputs": [],
   "source": []
  }
 ],
 "metadata": {
  "kernelspec": {
   "display_name": "Python 3",
   "language": "python",
   "name": "python3"
  },
  "language_info": {
   "codemirror_mode": {
    "name": "ipython",
    "version": 3
   },
   "file_extension": ".py",
   "mimetype": "text/x-python",
   "name": "python",
   "nbconvert_exporter": "python",
   "pygments_lexer": "ipython3",
   "version": "3.6.3"
  }
 },
 "nbformat": 4,
 "nbformat_minor": 2
}
